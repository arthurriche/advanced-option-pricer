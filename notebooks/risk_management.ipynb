{
 "cells": [
  {
   "cell_type": "raw",
   "metadata": {
    "vscode": {
     "languageId": "raw"
    }
   },
   "source": [
    "# Risk Management Analysis\n",
    "\n",
    "This notebook demonstrates various risk management techniques and calculations using the Greeks:\n",
    "\n",
    "1. Delta - First derivative with respect to underlying price\n",
    "2. Gamma - Second derivative with respect to underlying price\n",
    "3. Theta - Time decay\n",
    "4. Vega - Sensitivity to volatility\n",
    "5. Rho - Sensitivity to interest rate\n",
    "\n",
    "We'll also explore hedging strategies and portfolio risk analysis.\n"
   ]
  },
  {
   "cell_type": "code",
   "execution_count": null,
   "metadata": {},
   "outputs": [],
   "source": [
    "import numpy as np\n",
    "import pandas as pd\n",
    "import matplotlib.pyplot as plt\n",
    "from datetime import datetime, timedelta\n",
    "\n",
    "from src.models.black_scholes import BlackScholesModel\n",
    "from src.risk.greeks import calculate_greeks\n",
    "from src.risk.hedging import DeltaHedging\n",
    "\n",
    "# Set random seed for reproducibility\n",
    "np.random.seed(42)\n",
    "\n",
    "# Define option parameters\n",
    "S0 = 100  # Current stock price\n",
    "K = 100   # Strike price\n",
    "r = 0.05  # Risk-free rate\n",
    "sigma = 0.2  # Volatility\n",
    "T = 1.0   # Time to maturity in years\n",
    "\n",
    "# Create model instance\n",
    "bs_model = BlackScholesModel()\n"
   ]
  },
  {
   "cell_type": "code",
   "execution_count": null,
   "metadata": {},
   "outputs": [],
   "source": [
    "# Calculate Greeks\n",
    "greeks = calculate_greeks(bs_model, S0, K, T, r, sigma)\n",
    "\n",
    "print(\"Option Greeks:\")\n",
    "for greek, value in greeks.items():\n",
    "    print(f\"{greek}: {value:.4f}\")\n",
    "\n",
    "# Create a range of stock prices for sensitivity analysis\n",
    "stock_prices = np.linspace(80, 120, 100)\n",
    "deltas = []\n",
    "gammas = []\n",
    "\n",
    "for S in stock_prices:\n",
    "    greeks = calculate_greeks(bs_model, S, K, T, r, sigma)\n",
    "    deltas.append(greeks['delta'])\n",
    "    gammas.append(greeks['gamma'])\n",
    "\n",
    "# Plot Delta and Gamma\n",
    "plt.figure(figsize=(12, 6))\n",
    "plt.subplot(1, 2, 1)\n",
    "plt.plot(stock_prices, deltas)\n",
    "plt.title('Delta vs Stock Price')\n",
    "plt.xlabel('Stock Price')\n",
    "plt.ylabel('Delta')\n",
    "plt.grid(True)\n",
    "\n",
    "plt.subplot(1, 2, 2)\n",
    "plt.plot(stock_prices, gammas)\n",
    "plt.title('Gamma vs Stock Price')\n",
    "plt.xlabel('Stock Price')\n",
    "plt.ylabel('Gamma')\n",
    "plt.grid(True)\n",
    "\n",
    "plt.tight_layout()\n",
    "plt.show()\n"
   ]
  }
 ],
 "metadata": {
  "language_info": {
   "name": "python"
  }
 },
 "nbformat": 4,
 "nbformat_minor": 2
}
