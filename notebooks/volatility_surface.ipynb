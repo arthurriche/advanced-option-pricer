{
 "cells": [
  {
   "cell_type": "raw",
   "metadata": {
    "vscode": {
     "languageId": "raw"
    }
   },
   "source": [
    "# Volatility Surface Analysis\n",
    "\n",
    "This notebook explores the concept of volatility surfaces and their importance in option pricing:\n",
    "\n",
    "1. Understanding implied volatility\n",
    "2. Building volatility surfaces from market data\n",
    "3. Interpolation techniques\n",
    "4. Visualization of volatility smiles and surfaces\n",
    "5. Applications in option pricing\n"
   ]
  },
  {
   "cell_type": "code",
   "execution_count": null,
   "metadata": {},
   "outputs": [],
   "source": [
    "import numpy as np\n",
    "import pandas as pd\n",
    "import matplotlib.pyplot as plt\n",
    "from mpl_toolkits.mplot3d import Axes3D\n",
    "\n",
    "from src.models.black_scholes import BlackScholesModel\n",
    "from src.utils.market_data import get_market_data\n",
    "from src.utils.visualization import plot_volatility_surface\n",
    "\n",
    "# Set random seed for reproducibility\n",
    "np.random.seed(42)\n",
    "\n",
    "# Create a grid of strikes and maturities\n",
    "strikes = np.linspace(80, 120, 20)\n",
    "maturities = np.linspace(0.1, 2, 20)\n",
    "K, T = np.meshgrid(strikes, maturities)\n",
    "\n",
    "# Generate sample implied volatilities (this would normally come from market data)\n",
    "implied_vol = 0.2 + 0.1 * np.exp(-((K - 100)**2)/400) + 0.05 * np.exp(-T)\n",
    "\n",
    "# Create the 3D plot\n",
    "fig = plt.figure(figsize=(12, 8))\n",
    "ax = fig.add_subplot(111, projection='3d')\n",
    "\n",
    "# Plot the surface\n",
    "surf = ax.plot_surface(K, T, implied_vol, cmap='viridis')\n",
    "plt.colorbar(surf)\n",
    "\n",
    "ax.set_xlabel('Strike Price')\n",
    "ax.set_ylabel('Time to Maturity')\n",
    "ax.set_zlabel('Implied Volatility')\n",
    "plt.title('Volatility Surface')\n",
    "\n",
    "plt.show()\n"
   ]
  }
 ],
 "metadata": {
  "language_info": {
   "name": "python"
  }
 },
 "nbformat": 4,
 "nbformat_minor": 2
}
