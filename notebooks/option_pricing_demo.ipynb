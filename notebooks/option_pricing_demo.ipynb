{
 "cells": [
  {
   "cell_type": "raw",
   "metadata": {
    "vscode": {
     "languageId": "raw"
    }
   },
   "source": [
    "# Option Pricing Demo\n",
    "\n",
    "This notebook demonstrates the usage of various option pricing models implemented in this package. We'll cover:\n",
    "\n",
    "1. Black-Scholes Model\n",
    "2. Binomial Tree Model\n",
    "3. Monte Carlo Simulation\n",
    "4. Comparison between models\n"
   ]
  },
  {
   "cell_type": "code",
   "execution_count": null,
   "metadata": {},
   "outputs": [],
   "source": [
    "import numpy as np\n",
    "import pandas as pd\n",
    "import matplotlib.pyplot as plt\n",
    "from datetime import datetime, timedelta\n",
    "\n",
    "from src.models.black_scholes import BlackScholesModel\n",
    "from src.models.binomial_tree import BinomialTreeModel\n",
    "from src.data.market_data import get_market_data\n",
    "\n",
    "# Set random seed for reproducibility\n",
    "np.random.seed(42)\n",
    "\n",
    "# Define option parameters\n",
    "S0 = 100  # Current stock price\n",
    "K = 100   # Strike price\n",
    "r = 0.05  # Risk-free rate\n",
    "sigma = 0.2  # Volatility\n",
    "T = 1.0   # Time to maturity in years\n",
    "\n",
    "# Create instances of pricing models\n",
    "bs_model = BlackScholesModel()\n",
    "bt_model = BinomialTreeModel(steps=100)\n"
   ]
  },
  {
   "cell_type": "code",
   "execution_count": null,
   "metadata": {},
   "outputs": [],
   "source": [
    "# Calculate option prices using different models\n",
    "bs_call_price = bs_model.price_call(S0, K, T, r, sigma)\n",
    "bs_put_price = bs_model.price_put(S0, K, T, r, sigma)\n",
    "\n",
    "bt_call_price = bt_model.price_call(S0, K, T, r, sigma)\n",
    "bt_put_price = bt_model.price_put(S0, K, T, r, sigma)\n",
    "\n",
    "print(\"Black-Scholes Model:\")\n",
    "print(f\"Call Option Price: ${bs_call_price:.2f}\")\n",
    "print(f\"Put Option Price: ${bs_put_price:.2f}\")\n",
    "print(\"\\nBinomial Tree Model:\")\n",
    "print(f\"Call Option Price: ${bt_call_price:.2f}\")\n",
    "print(f\"Put Option Price: ${bt_put_price:.2f}\")\n"
   ]
  },
  {
   "cell_type": "code",
   "execution_count": null,
   "metadata": {},
   "outputs": [],
   "source": [
    "# Plot option prices vs stock price\n",
    "stock_prices = np.linspace(80, 120, 100)\n",
    "bs_calls = [bs_model.price_call(S, K, T, r, sigma) for S in stock_prices]\n",
    "bs_puts = [bs_model.price_put(S, K, T, r, sigma) for S in stock_prices]\n",
    "\n",
    "plt.figure(figsize=(12, 6))\n",
    "plt.plot(stock_prices, bs_calls, label='Call Option')\n",
    "plt.plot(stock_prices, bs_puts, label='Put Option')\n",
    "plt.axvline(x=K, color='gray', linestyle='--', alpha=0.5, label='Strike Price')\n",
    "plt.xlabel('Stock Price')\n",
    "plt.ylabel('Option Price')\n",
    "plt.title('Option Prices vs Stock Price (Black-Scholes Model)')\n",
    "plt.legend()\n",
    "plt.grid(True)\n",
    "plt.show()\n"
   ]
  }
 ],
 "metadata": {
  "language_info": {
   "name": "python"
  }
 },
 "nbformat": 4,
 "nbformat_minor": 2
}
